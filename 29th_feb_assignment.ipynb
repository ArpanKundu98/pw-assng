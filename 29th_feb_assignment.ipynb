{
 "cells": [
  {
   "cell_type": "markdown",
   "id": "5c0f0d50-771c-4409-ab2a-39b5f795b4e7",
   "metadata": {},
   "source": [
    "1. Who developed python language?"
   ]
  },
  {
   "cell_type": "markdown",
   "id": "5bfded10-4c06-4539-bb80-97acf3a34627",
   "metadata": {},
   "source": [
    "The Python programming language was created by Guido van Rossum. He began developing Python in the late 1980s, and the first version of Python, version 0.9.0, was released in February 1991."
   ]
  },
  {
   "cell_type": "markdown",
   "id": "854e5ff6-031e-48ea-af36-34d85a246de0",
   "metadata": {},
   "source": [
    "2. Which type of programming does Python support?"
   ]
  },
  {
   "cell_type": "markdown",
   "id": "f20a15f6-fa78-47da-b28c-97864bfc8296",
   "metadata": {},
   "source": [
    "Python supports multiple programming paradigms, including:\n",
    "\n",
    "1. Procedural Programming: Python allows you to write code in a procedural style, where you organize your program into a series of procedures or functions that manipulate data.\n",
    "\n",
    "2. Object-Oriented Programming (OOP): Python has strong support for OOP concepts such as classes, objects, inheritance, and polymorphism, making it easy to create and work with objects.\n",
    "\n",
    "3. Functional Programming: Python supports functional programming techniques, allowing you to use functions as first-class objects, apply higher-order functions, and leverage features like lambda expressions and list comprehensions.\n",
    "\n",
    "4. Imperative Programming: Python supports imperative programming, where you describe the steps or commands for the computer to perform. This includes control flow structures like loops and conditionals.\n",
    "\n",
    "Overall, Python is a versatile language that offers support for various programming paradigms, making it suitable for a wide range of applications and programming styles."
   ]
  },
  {
   "cell_type": "markdown",
   "id": "e99fd3ff-90d1-44fb-a634-3422fc6a779c",
   "metadata": {},
   "source": [
    "3. Is python case sensitive when dealing with identifier?"
   ]
  },
  {
   "cell_type": "markdown",
   "id": "11479e06-83b4-40b2-b025-dba428198680",
   "metadata": {},
   "source": [
    "Yes, Python is case-sensitive when dealing with identifiers. This means that variables, function names, class names, and other identifiers in Python are distinguished by their case. For example, \"myVariable\" and \"myvariable\" would be considered as two different identifiers in Python. It is important to be consistent with the case when using identifiers to avoid any naming conflicts or errors in your code."
   ]
  },
  {
   "cell_type": "markdown",
   "id": "90e14251-a846-4697-a366-6d23ace0fde3",
   "metadata": {},
   "source": [
    "4. What is the correct extension of python files?"
   ]
  },
  {
   "cell_type": "markdown",
   "id": "6d036ec6-557a-4bfe-aa1f-a22a6caac8c6",
   "metadata": {},
   "source": [
    "The correct extension for Python files is \".py\". When saving Python code files, it is common practice to use the .py extension. This helps to identify the file as a Python script or module, making it easier for both developers and the Python interpreter to recognize and work with these files."
   ]
  },
  {
   "cell_type": "markdown",
   "id": "8496967d-ce38-4b6d-b463-b5c866006456",
   "metadata": {},
   "source": [
    "5. Is Python code compiled or interpreted?"
   ]
  },
  {
   "cell_type": "markdown",
   "id": "8b4fe18d-ffc8-468b-a335-9ca175d2d41b",
   "metadata": {},
   "source": [
    "Python code is interpreted. When someone runs a Python program, the Python interpreter reads and executes the code line by line without prior compilation into machine code. This interpretive nature of Python allows for dynamic typing, interactive development, and easier debugging. However, under the hood, the Python interpreter does compile the code into an intermediate form called bytecode, which is then executed by the interpreter. This bytecode compilation happens automatically and transparently, without requiring explicit compilation steps by the programmer."
   ]
  },
  {
   "cell_type": "markdown",
   "id": "e82f5236-8371-4930-9dcc-2572a2362ef0",
   "metadata": {},
   "source": [
    "6. Name a few blocks of codes used to define in python language?"
   ]
  },
  {
   "cell_type": "markdown",
   "id": "08f15c8a-c729-4756-b0cb-15676085d22b",
   "metadata": {},
   "source": [
    "In Python, code blocks are defined using indentation rather than explicit block delimiters. Some common code blocks in Python include:\n",
    "\n",
    "1. Function Definitions: Code blocks that define a function. They start with the \"def\" keyword, followed by the function name, parameters, and a colon. The indented block following the colon contains the function's body.\n",
    "\n",
    "2. Conditional Statements: Code blocks that are executed based on certain conditions. They use keywords like \"if,\" \"elif\" (short for \"else if\"), and \"else.\" The code block under each condition is indented.\n",
    "\n",
    "3. Loops: Code blocks that are repeated a certain number of times or until a specific condition is met. Python has \"for\" loops and \"while\" loops. The code block under the loop statement is indented.\n",
    "\n",
    "4. Class Definitions: Code blocks that define a class. They start with the \"class\" keyword, followed by the class name and a colon. The indented block below contains class attributes and methods.\n",
    "\n",
    "These are just a few examples of code blocks in Python. In general, any indented block of code indicates a separate code block in Python."
   ]
  },
  {
   "cell_type": "markdown",
   "id": "3c4bc6b1-7ea3-4dbc-af8b-ef12faf80d97",
   "metadata": {},
   "source": [
    "7. State a charecter used to give single-line comments in Python?"
   ]
  },
  {
   "cell_type": "markdown",
   "id": "afd4532f-8a4c-408f-b125-ca5cb3e191cb",
   "metadata": {},
   "source": [
    "The character used to give single-line comments in Python is the hash symbol (#)."
   ]
  },
  {
   "cell_type": "markdown",
   "id": "19ef9ecd-9848-4c77-a465-396547c17926",
   "metadata": {},
   "source": [
    "8. Mention functions which can help us to find the version of Python that we are currently working on?"
   ]
  },
  {
   "cell_type": "markdown",
   "id": "54273ece-a365-471b-84b4-ab93c7bfe2a8",
   "metadata": {},
   "source": [
    "sys.version: This function from the sys module returns a string that represents the version of Python.\n",
    "\n",
    "platform.python_version(): This function from the platform module returns a string with the version number of Python.\n",
    "\n",
    "Both functions can be used to obtain the version information of the Python interpreter."
   ]
  },
  {
   "cell_type": "markdown",
   "id": "5d3b183f-1a61-4443-a6c7-a12b10ebca05",
   "metadata": {},
   "source": [
    "9. Python supports the creation of anonymous functions at runtime, using a construct called__________"
   ]
  },
  {
   "cell_type": "markdown",
   "id": "d0dbda0b-2dea-47ed-9a61-3bb7691de610",
   "metadata": {},
   "source": [
    "\"def\""
   ]
  },
  {
   "cell_type": "markdown",
   "id": "aaa61645-f910-42a4-bc98-272d4ff3110a",
   "metadata": {},
   "source": [
    "10. What does pip stands for Python?"
   ]
  },
  {
   "cell_type": "markdown",
   "id": "cba22914-b37d-447b-b274-131104930d07",
   "metadata": {},
   "source": [
    "PIP stands for \"Pip Installs Packages\" or sometimes referred to as \"Pip Installs Python.\" It is a package management system used in Python for installing and managing software packages or libraries. PIP allows users to easily install, upgrade, and remove Python packages from the Python Package Index (PyPI) or other package repositories."
   ]
  },
  {
   "cell_type": "markdown",
   "id": "3aa8348c-9576-4009-862e-7cbd5238e2a5",
   "metadata": {},
   "source": [
    "11. Mention a few built-in functions in Python?"
   ]
  },
  {
   "cell_type": "markdown",
   "id": "2b4dbe0e-ece6-4e53-bd76-cf0cc1e90e9c",
   "metadata": {},
   "source": [
    "There are numerous built-in functions in Python, but here are a few commonly used ones:\n",
    "\n",
    "1. `print()`: Used to display output on the console.\n",
    "\n",
    "2. `len()`: Returns the length of an object, such as a string, list, or tuple.\n",
    "\n",
    "3. `input()`: Allows user input from the console.\n",
    "\n",
    "4. `range()`: Generates a sequence of numbers within a specified range.\n",
    "\n",
    "5. `type()`: Returns the data type of an object.\n",
    "\n",
    "6. `str()`, `int()`, `float()`: Used to convert objects into strings, integers, or floats, respectively.\n",
    "\n",
    "7. `max()`, `min()`: Returns the maximum or minimum value from a collection.\n",
    "\n",
    "8. `sum()`: Calculates the sum of elements in a collection.\n",
    "\n",
    "9. `abs()`: Returns the absolute value of a number.\n",
    "\n",
    "10. `round()`: Rounds a number to a specified number of decimal places.\n",
    "\n",
    "These are just a few examples of built-in functions available in Python. Python offers a wide range of built-in functions to perform various tasks."
   ]
  },
  {
   "cell_type": "markdown",
   "id": "d8e35b5f-c93a-42ff-b0b4-1de37c10a674",
   "metadata": {},
   "source": [
    "12. What is the maximum possible length of an identifier in Python?"
   ]
  },
  {
   "cell_type": "markdown",
   "id": "a584a9f8-52a9-4f0e-8418-6823fb72a4bf",
   "metadata": {},
   "source": [
    "In Python, the maximum possible length of an identifier (variable name, function name, etc.) is not explicitly defined. However, practical limitations are imposed by factors such as the system's memory and the readability of the code. PEP 8, the official style guide for Python code, suggests keeping the length of identifiers to a maximum of 79 characters to ensure code readability. It is generally recommended to use meaningful and descriptive names while keeping them concise and understandable, striking a balance between clarity and excessive length."
   ]
  },
  {
   "cell_type": "markdown",
   "id": "fa01371e-b2df-4ab4-bd6e-d19dd542e440",
   "metadata": {},
   "source": [
    "13. What are the benefits of using Python?"
   ]
  },
  {
   "cell_type": "markdown",
   "id": "9bace603-2a1e-4780-a124-2e018f671723",
   "metadata": {},
   "source": [
    "Some benefits of using Python include:\n",
    "\n",
    "1. Readability: Python emphasizes code readability with its clean and intuitive syntax, making it easier to write and understand.\n",
    "\n",
    "2. Versatility: Python is a versatile language suitable for a wide range of applications, including web development, data analysis, scientific computing, artificial intelligence, and more.\n",
    "\n",
    "3. Large Standard Library: Python comes with a comprehensive standard library, providing a vast collection of modules and functions to simplify common tasks.\n",
    "\n",
    "4. Third-Party Libraries: Python has a rich ecosystem of third-party libraries and frameworks, offering extended functionality and ready-to-use tools for various domains.\n",
    "\n",
    "5. Platform Independence: Python is available on different platforms (Windows, macOS, Linux), allowing code portability and cross-platform development.\n",
    "\n",
    "6. Rapid Development: Python's simplicity and productivity features, such as dynamic typing and automatic memory management, enable faster development and prototyping.\n",
    "\n",
    "7. Community and Support: Python has a large and active community, providing extensive documentation, online resources, and community-driven support.\n",
    "\n",
    "These are just a few of the many advantages of using Python, making it a popular choice among developers and organizations worldwide."
   ]
  },
  {
   "cell_type": "markdown",
   "id": "b1e81a39-3d53-4a3f-b9e9-5007fd43d90e",
   "metadata": {},
   "source": [
    "14. How is memory managed in Python?"
   ]
  },
  {
   "cell_type": "markdown",
   "id": "cb0fc096-cab0-416f-9a77-3668d269a84b",
   "metadata": {},
   "source": [
    "Memory management in Python is handled automatically through a mechanism known as \"garbage collection.\" Python's garbage collector automatically deallocates memory for objects that are no longer in use, freeing up resources and preventing memory leaks. It utilizes reference counting to track and manage memory usage efficiently. Additionally, Python also employs a technique called \"cyclic garbage collection\" to detect and deallocate objects with circular references that cannot be resolved by reference counting alone."
   ]
  },
  {
   "cell_type": "markdown",
   "id": "bb6ad4f7-d178-4958-9fc5-ea2426167e7b",
   "metadata": {},
   "source": [
    "15. How to install Python in Windows and set path variables?"
   ]
  },
  {
   "cell_type": "markdown",
   "id": "c5d180d2-2248-4ba1-9b2e-08c6858bdd15",
   "metadata": {},
   "source": [
    "To install Python on Windows and set path variables, follow these steps:\n",
    "\n",
    "Download the latest Python installer for Windows from the official Python website (https://www.python.org/downloads/).\n",
    "\n",
    "Run the installer and select the \"Add Python to PATH\" option during installation.\n",
    "\n",
    "Follow the prompts and complete the installation process.\n",
    "\n",
    "Open a command prompt and verify that Python is installed by typing python --version.\n",
    "\n",
    "To set the Python path variables, right-click on the \"This PC\" or \"My Computer\" icon and select \"Properties.\"\n",
    "\n",
    "From the System Properties window, click on the \"Advanced system settings\" link.\n",
    "\n",
    "In the System Properties dialog, click on the \"Environment Variables\" button.\n",
    "\n",
    "Under the \"System variables\" section, select the \"Path\" variable and click the \"Edit\" button.\n",
    "\n",
    "Add the path to the Python installation directory (usually C:\\PythonXX, where \"XX\" represents the version number) to the list of paths.\n",
    "\n",
    "Click \"OK\" to save the changes.\n",
    "\n",
    "Open a new command prompt and verify that the Python path is set correctly by typing python --version.\n",
    "\n",
    "After completing these steps, Python should be successfully installed on Windows system."
   ]
  },
  {
   "cell_type": "markdown",
   "id": "ff1093f3-c68b-4cd2-a4b4-4d0e86d62d42",
   "metadata": {},
   "source": [
    "16. Is indentation required in Python?"
   ]
  },
  {
   "cell_type": "markdown",
   "id": "8bd5787a-4d22-4874-ba22-11466ecb47bc",
   "metadata": {},
   "source": [
    "Yes, indentation is required in Python. The indentation is used to define the structure and hierarchy of code blocks, such as loops, conditionals, and function definitions. It is a fundamental part of Python's syntax and determines the grouping of statements. Incorrect indentation can lead to syntax errors or alter the logic of the code. Therefore, consistent and proper indentation is crucial in Python."
   ]
  },
  {
   "cell_type": "code",
   "execution_count": null,
   "id": "2ec2be81-75b5-4c84-91b4-6c439f01daf6",
   "metadata": {},
   "outputs": [],
   "source": []
  }
 ],
 "metadata": {
  "kernelspec": {
   "display_name": "Python 3 (ipykernel)",
   "language": "python",
   "name": "python3"
  },
  "language_info": {
   "codemirror_mode": {
    "name": "ipython",
    "version": 3
   },
   "file_extension": ".py",
   "mimetype": "text/x-python",
   "name": "python",
   "nbconvert_exporter": "python",
   "pygments_lexer": "ipython3",
   "version": "3.10.8"
  }
 },
 "nbformat": 4,
 "nbformat_minor": 5
}
