{
 "cells": [
  {
   "cell_type": "markdown",
   "id": "f311d99a-2e7f-4ef8-81d1-d70366fabb61",
   "metadata": {},
   "source": [
    "Q1. Create a python program to sort the given list of tuples based on integer value using a\n",
    "lambda function.\n",
    "[('Sachin Tendulkar', 34357), ('Ricky Ponting', 27483), ('Jack Kallis', 25534), ('Virat Kohli', 24936)]"
   ]
  },
  {
   "cell_type": "code",
   "execution_count": 1,
   "id": "5d32e33c-08c5-4332-a8e2-c4beb5e8b774",
   "metadata": {},
   "outputs": [
    {
     "name": "stdout",
     "output_type": "stream",
     "text": [
      "('Virat Kohli', 24936)\n",
      "('Jack Kallis', 25534)\n",
      "('Ricky Ponting', 27483)\n",
      "('Sachin Tendulkar', 34357)\n"
     ]
    }
   ],
   "source": [
    "data = [('Sachin Tendulkar', 34357), ('Ricky Ponting', 27483), ('Jack Kallis', 25534), ('Virat Kohli', 24936)]\n",
    "\n",
    "sorted_data = sorted(data, key=lambda x: x[1])\n",
    "\n",
    "for item in sorted_data:\n",
    "    print(item)"
   ]
  },
  {
   "cell_type": "markdown",
   "id": "af285aa2-834f-4a55-b163-378e54ee8735",
   "metadata": {},
   "source": [
    "Q2. Write a Python Program to find the squares of all the numbers in the given list of integers using lambda and map functions. [1, 2, 3, 4, 5, 6, 7, 8, 9, 10]"
   ]
  },
  {
   "cell_type": "code",
   "execution_count": 2,
   "id": "18f40035-372c-4d35-bcfd-0a27a8978cea",
   "metadata": {},
   "outputs": [
    {
     "name": "stdout",
     "output_type": "stream",
     "text": [
      "[1, 4, 9, 16, 25, 36, 49, 64, 81, 100]\n"
     ]
    }
   ],
   "source": [
    "numbers = [1, 2, 3, 4, 5, 6, 7, 8, 9, 10]\n",
    "\n",
    "squared_numbers = list(map(lambda x: x ** 2, numbers))\n",
    "\n",
    "print(squared_numbers)"
   ]
  },
  {
   "cell_type": "markdown",
   "id": "2e429663-e370-4eaa-b51a-fe2c68a4b4ee",
   "metadata": {},
   "source": [
    "Q3. Write a python program to convert the given list of integers into a tuple of strings. Use map and\n",
    "lambda functions?\n",
    "Given String: [1, 2, 3, 4, 5, 6, 7, 8, 9, 10]\n",
    "Expected output: ('1', '2', '3', '4', '5', '6', '7', '8', '9', '10')"
   ]
  },
  {
   "cell_type": "code",
   "execution_count": 3,
   "id": "c26e1e7e-6326-4d31-b792-9b7af7d2d0a4",
   "metadata": {},
   "outputs": [
    {
     "name": "stdout",
     "output_type": "stream",
     "text": [
      "('1', '2', '3', '4', '5', '6', '7', '8', '9', '10')\n"
     ]
    }
   ],
   "source": [
    "numbers = [1, 2, 3, 4, 5, 6, 7, 8, 9, 10]\n",
    "\n",
    "string_tuple = tuple(map(lambda x: str(x), numbers))\n",
    "\n",
    "print(string_tuple)"
   ]
  },
  {
   "cell_type": "markdown",
   "id": "145a58c6-090a-4784-a57d-f4c118a50482",
   "metadata": {},
   "source": [
    "Q4. Write a python program using reduce function to compute the product of a list containing numbers from 1 to 25."
   ]
  },
  {
   "cell_type": "code",
   "execution_count": 5,
   "id": "e209f815-c12e-4a94-a4ed-a22e9312d37b",
   "metadata": {},
   "outputs": [
    {
     "name": "stdout",
     "output_type": "stream",
     "text": [
      "15511210043330985984000000\n"
     ]
    }
   ],
   "source": [
    "from functools import reduce\n",
    "\n",
    "numbers = list(range(1, 26))\n",
    "\n",
    "product = reduce(lambda x, y: x * y, numbers)\n",
    "\n",
    "print(product)"
   ]
  },
  {
   "cell_type": "markdown",
   "id": "15be27cb-6950-49c8-ab3e-526377d605a3",
   "metadata": {},
   "source": [
    "Q5. Write a python program to filter the numbers in a given list that are divisible by 2 and 3 using the filter function?\n",
    "[2, 3, 6, 9, 27, 60, 90, 120, 55, 46]"
   ]
  },
  {
   "cell_type": "code",
   "execution_count": 6,
   "id": "a669d853-4374-4a5d-a42c-520b1338224c",
   "metadata": {},
   "outputs": [
    {
     "name": "stdout",
     "output_type": "stream",
     "text": [
      "[6, 60, 90, 120]\n"
     ]
    }
   ],
   "source": [
    "numbers = [2, 3, 6, 9, 27, 60, 90, 120, 55, 46]\n",
    "\n",
    "filtered_numbers = list(filter(lambda x: x % 2 == 0 and x % 3 == 0, numbers))\n",
    "\n",
    "print(filtered_numbers)"
   ]
  },
  {
   "cell_type": "markdown",
   "id": "7bd4fb30-4b1a-48a6-a82d-b152c120938d",
   "metadata": {},
   "source": [
    "Q6. Write a python program to find palindromes in the given list of strings using lambda and filter function?\n",
    "['python', 'php', 'aba', 'radar', 'level']"
   ]
  },
  {
   "cell_type": "code",
   "execution_count": 7,
   "id": "559fb6f3-9dc4-43f2-ae0e-f98efbb7c95c",
   "metadata": {},
   "outputs": [
    {
     "name": "stdout",
     "output_type": "stream",
     "text": [
      "['php', 'aba', 'radar', 'level']\n"
     ]
    }
   ],
   "source": [
    "strings = ['python', 'php', 'aba', 'radar', 'level']\n",
    "\n",
    "palindromes = list(filter(lambda x: x == x[::-1], strings))\n",
    "\n",
    "print(palindromes)"
   ]
  },
  {
   "cell_type": "code",
   "execution_count": null,
   "id": "8e4f9a9e-9399-4d73-843a-43c8e4603c2a",
   "metadata": {},
   "outputs": [],
   "source": []
  }
 ],
 "metadata": {
  "kernelspec": {
   "display_name": "Python 3 (ipykernel)",
   "language": "python",
   "name": "python3"
  },
  "language_info": {
   "codemirror_mode": {
    "name": "ipython",
    "version": 3
   },
   "file_extension": ".py",
   "mimetype": "text/x-python",
   "name": "python",
   "nbconvert_exporter": "python",
   "pygments_lexer": "ipython3",
   "version": "3.10.8"
  }
 },
 "nbformat": 4,
 "nbformat_minor": 5
}
