{
 "cells": [
  {
   "cell_type": "markdown",
   "id": "846b59e6-7b01-4dad-a4ee-872ad217f5ec",
   "metadata": {},
   "source": [
    "Q1. Which keyword is used to create a function?"
   ]
  },
  {
   "cell_type": "markdown",
   "id": "d7fcd988-baa0-41aa-bca5-a7fb1ad44942",
   "metadata": {},
   "source": [
    "Ans: def"
   ]
  },
  {
   "cell_type": "markdown",
   "id": "30c1c70b-f580-48b0-99a5-e2e3927b97c6",
   "metadata": {},
   "source": [
    "Create a list of odd numbers in the range of 1 to 25?"
   ]
  },
  {
   "cell_type": "code",
   "execution_count": 1,
   "id": "87f5117f-c16d-4c56-928a-5e4341d10c39",
   "metadata": {},
   "outputs": [
    {
     "name": "stdout",
     "output_type": "stream",
     "text": [
      "[1, 3, 5, 7, 9, 11, 13, 15, 17, 19, 21, 23, 25]\n"
     ]
    }
   ],
   "source": [
    "def get_odd_numbers():\n",
    "    odd_numbers = []\n",
    "    for num in range(1, 26):\n",
    "        if num % 2 != 0:\n",
    "            odd_numbers.append(num)\n",
    "    return odd_numbers\n",
    "\n",
    "print(get_odd_numbers())\n"
   ]
  },
  {
   "cell_type": "markdown",
   "id": "f7c8c606-1b7c-4fe3-87b8-60b47495f5a4",
   "metadata": {},
   "source": [
    "Q2. Why *args and **kwargs is used in some functions? Create a function each for *args and **kwargs to\n",
    "demonstrate their use?"
   ]
  },
  {
   "cell_type": "markdown",
   "id": "e5864a4f-8eaf-44d6-b3d1-ba9b6fbc2aa7",
   "metadata": {},
   "source": [
    "args:\n",
    "The *args syntax allows a function to accept a variable number of non-keyword arguments. The *args parameter, when used in a function definition, allows the function to receive any number of positional arguments as a tuple. These arguments can be accessed within the function using the args tuple.\n",
    "\n",
    "Here's an example function that demonstrates the use of *args:"
   ]
  },
  {
   "cell_type": "code",
   "execution_count": 9,
   "id": "b617325e-5f9b-41f5-b1b0-2a69cfd0e0f0",
   "metadata": {},
   "outputs": [
    {
     "data": {
      "text/plain": [
       "15"
      ]
     },
     "execution_count": 9,
     "metadata": {},
     "output_type": "execute_result"
    }
   ],
   "source": [
    "def Total_sum(*args):\n",
    "    total = 0\n",
    "    for i in args:\n",
    "        total += i\n",
    "    return total\n",
    "\n",
    "Total_sum(1, 2, 3, 4, 5)"
   ]
  },
  {
   "cell_type": "markdown",
   "id": "22b3d827-f950-4f76-b8fd-d424c09ede90",
   "metadata": {},
   "source": [
    "kwargs: The **kwargs syntax allows a function to accept a variable number of keyword arguments. The **kwargs parameter, when used in a function definition, allows the function to receive any number of key-value arguments as a dictionary. These arguments can be accessed within the function using the kwargs dictionary.\n",
    "\n",
    "Here's an example function that demonstrates the use of **kwargs:"
   ]
  },
  {
   "cell_type": "code",
   "execution_count": 12,
   "id": "7cc5bf2f-fce9-436f-809d-2d82631550f8",
   "metadata": {},
   "outputs": [
    {
     "name": "stdout",
     "output_type": "stream",
     "text": [
      "name: John\n",
      "age: 25\n",
      "city: New York\n"
     ]
    }
   ],
   "source": [
    "def print_person_info(**kwargs):\n",
    "    for key, value in kwargs.items():\n",
    "        print(f\"{key}: {value}\")\n",
    "\n",
    "print_person_info(name=\"John\", age=25, city=\"New York\")"
   ]
  },
  {
   "cell_type": "markdown",
   "id": "b44b5b5b-9d7c-4b0b-bc3e-a3d9e1c3eb96",
   "metadata": {},
   "source": [
    "Q3. What is an iterator in python? Name the method used to initialise the iterator object and the method used for iteration. Use these methods to print the first five elements of the given list [2, 4, 6, 8, 10, 12, 14, 16, 18, 20]?"
   ]
  },
  {
   "cell_type": "markdown",
   "id": "2c95f816-cfc2-4700-9435-3b26bdeb9f05",
   "metadata": {},
   "source": [
    "Ans: In Python, an iterator is an object that represents a stream of data. It provides a way to access elements of a collection one at a time without needing to know the internal structure of the collection. Iterators allow for efficient traversal of large or infinite sequences of data.\n",
    "\n",
    "for iterating through elements, a for loop is generally used in python.\n",
    "\n",
    "Using the following code, the first five elements of this given list [2, 4, 6, 8, 10, 12, 14, 16, 18, 20] will be printed."
   ]
  },
  {
   "cell_type": "code",
   "execution_count": 2,
   "id": "fcf39077-96ee-4e3c-a5a2-d7ae09f8f995",
   "metadata": {},
   "outputs": [
    {
     "name": "stdout",
     "output_type": "stream",
     "text": [
      "2\n",
      "4\n",
      "6\n",
      "8\n",
      "10\n"
     ]
    }
   ],
   "source": [
    "list1 = [2, 4, 6, 8, 10, 12, 14, 16, 18, 20]\n",
    "\n",
    "for i in list1[:5]:\n",
    "    print(i)\n"
   ]
  },
  {
   "cell_type": "markdown",
   "id": "aee17955-1f3f-43a8-8280-bcf817df8809",
   "metadata": {},
   "source": [
    "Q4. What is a generator function in python? Why yield keyword is used? Give an example of a generator\n",
    "function."
   ]
  },
  {
   "cell_type": "markdown",
   "id": "52831695-a4c4-4bd8-b327-abaee87381bf",
   "metadata": {},
   "source": [
    "Ans: In Python, a generator function is a special type of function that generates an iterator object, which can be used to iterate over a sequence of values. Instead of returning a single value like regular functions, generator functions use the yield keyword to yield a series of values one at a time.\n",
    "\n",
    "The yield keyword is used in generator functions to pause the function's execution and yield a value to the caller. When the generator function is called, it returns a generator object, which can be iterated over using a for loop or by using the next() function. Each time the yield statement is encountered, the function's state is saved, and the yielded value is returned. The next time the function is called, it resumes execution from where it left off.\n",
    "\n",
    "The primary advantage of using generator functions is that they allow for the lazy evaluation of values. They generate values on-the-fly, only when requested, which can be memory-efficient, especially for large or infinite sequences.\n",
    "\n",
    "Here's an example of a generator function that generates a sequence of even numbers:"
   ]
  },
  {
   "cell_type": "code",
   "execution_count": 8,
   "id": "165dc7ec-ecc4-4f0c-afea-daa078165d58",
   "metadata": {},
   "outputs": [
    {
     "name": "stdout",
     "output_type": "stream",
     "text": [
      "2\n",
      "4\n",
      "6\n",
      "8\n",
      "10\n"
     ]
    }
   ],
   "source": [
    "def even_numbers_generator(n):\n",
    "    for num in range(2, n + 1, 2):\n",
    "        yield num\n",
    "        \n",
    "        \n",
    "generator = even_numbers_generator(10)\n",
    "for num in generator:\n",
    "    print(num)"
   ]
  },
  {
   "cell_type": "code",
   "execution_count": null,
   "id": "064b7407-9ae6-4214-adf4-540a8812aee9",
   "metadata": {},
   "outputs": [],
   "source": []
  },
  {
   "cell_type": "code",
   "execution_count": 23,
   "id": "6fdfce44-9d18-44f8-82f3-61edbce0235b",
   "metadata": {},
   "outputs": [
    {
     "ename": "IndentationError",
     "evalue": "expected an indented block after 'for' statement on line 2 (2535422447.py, line 3)",
     "output_type": "error",
     "traceback": [
      "\u001b[0;36m  Cell \u001b[0;32mIn[23], line 3\u001b[0;36m\u001b[0m\n\u001b[0;31m    is_prime = True  # Assume i is prime initially\u001b[0m\n\u001b[0m    ^\u001b[0m\n\u001b[0;31mIndentationError\u001b[0m\u001b[0;31m:\u001b[0m expected an indented block after 'for' statement on line 2\n"
     ]
    }
   ],
   "source": [
    "def prime_generator():\n",
    "    for i in range(2, 1001):\n",
    "    is_prime = True  # Assume i is prime initially\n",
    "    for n in range(2, i):\n",
    "        if i % n == 0:\n",
    "            is_prime = False  # i is divisible by n, not a prime number\n",
    "            break  # No need to check further, exit the inner loop\n",
    "    if is_prime:\n",
    "        yield i\n",
    "            \n",
    "prime_gen = prime_generator()\n",
    "\n",
    "for _ in range(20):\n",
    "    prime_num = next(prime_gen)\n",
    "    print(prime_num)"
   ]
  },
  {
   "cell_type": "code",
   "execution_count": null,
   "id": "891f2e38-64d1-47b3-adef-bb25a3fccfcf",
   "metadata": {},
   "outputs": [],
   "source": []
  },
  {
   "cell_type": "code",
   "execution_count": null,
   "id": "023aba53-21d1-4259-b03c-6bd73f6a5ab3",
   "metadata": {},
   "outputs": [],
   "source": []
  },
  {
   "cell_type": "code",
   "execution_count": null,
   "id": "a28633da-d8ee-441b-8a7f-79832e90e752",
   "metadata": {},
   "outputs": [],
   "source": []
  }
 ],
 "metadata": {
  "kernelspec": {
   "display_name": "Python 3 (ipykernel)",
   "language": "python",
   "name": "python3"
  },
  "language_info": {
   "codemirror_mode": {
    "name": "ipython",
    "version": 3
   },
   "file_extension": ".py",
   "mimetype": "text/x-python",
   "name": "python",
   "nbconvert_exporter": "python",
   "pygments_lexer": "ipython3",
   "version": "3.10.8"
  }
 },
 "nbformat": 4,
 "nbformat_minor": 5
}
